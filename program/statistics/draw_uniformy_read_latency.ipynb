{
 "cells": [
  {
   "cell_type": "code",
   "execution_count": 3,
   "metadata": {},
   "outputs": [
    {
     "data": {
      "image/png": "[encoded data removed]",
      "text/plain": [
       "<Figure size 432x288 with 1 Axes>"
      ]
     },
     "metadata": {
      "needs_background": "light"
     },
     "output_type": "display_data"
    }
   ],
   "source": [
    "import numpy as np\n",
    "import seaborn as sns\n",
    "import sys\n",
    "from openpyxl import Workbook\n",
    "from openpyxl.utils import get_column_letter\n",
    "import pandas as pd\n",
    "import scipy\n",
    "import os\n",
    "import sys\n",
    "import matplotlib.pyplot as plt\n",
    "from pylab import * \n",
    "import math\n",
    "from numpy import cumsum\n",
    "\n",
    "%matplotlib inline\n",
    "\n",
    "#数据输入\n",
    "def get_trace_reference(filename):\n",
    "    \n",
    "    file_base = open(filename)\n",
    "    \n",
    "    flag=0\n",
    "    \n",
    "    x = []\n",
    "    \n",
    "    while 1:\n",
    "        \n",
    "        base_lines = file_base.readlines(100000)\n",
    "             \n",
    "        if (not base_lines):\n",
    "            \n",
    "            break \n",
    "            \n",
    "        for base_line in base_lines:\n",
    "\n",
    "            if str(base_line).startswith(\"read request average response time:\"): #以write request average response time:的行\n",
    "                number = int(base_line.split()[5]) / 1e6\n",
    "                x.append(number)\n",
    "\n",
    "    file_base.close()\n",
    "    \n",
    "    return x\n",
    "\n",
    "\n",
    "\n",
    "base1 = get_trace_reference(\"stat1.txt\")\n",
    "base2 = get_trace_reference(\"stat2.txt\")\n",
    "base3 = get_trace_reference(\"stat4.txt\")\n",
    "gc = get_trace_reference(\"stat3.txt\")\n",
    "labels = [\"HM_0\",\"HM_1\",\"PRN_0\",\"PRN_1\",\"PROJ_1\",\"PROJ_3\",\"PROJ_4\",\"PRXY_0\"]\n",
    "num = len(labels)  # the label locations\n",
    "width = 0.35  # the width of the bars\n",
    "\n",
    "base1_u = [1 for _ in base1]\n",
    "base2_u = [a/b for a,b in zip(base2,base1)]\n",
    "base3_u = [a/b for a,b in zip(base3,base1)]\n",
    "gc_u = [a/b for a,b in zip(gc,base1)]\n",
    "plt.rcParams['font.sans-serif']=['SimHei'] #用来正常显示中文标签\n",
    "plt.rcParams['axes.unicode_minus'] = False #用来正常显示负号\n",
    "fig, ax = plt.subplots()\n",
    "\n",
    "all_width = 4 # 三个条柱的总宽度\n",
    "width = onset = all_width / 4 # 偏移量是一个条柱的宽度\n",
    "\n",
    "x1 = [x-1.5* onset for x in range(0,8*num,8)]\n",
    "x2 = [x-0.5* onset for x in range(0,8*num,8)]\n",
    "x3 = [x+0.5* onset for x in range(0,8*num,8)]\n",
    "x4 = [x+1.5* onset for x in range(0,8*num,8)]\n",
    "# 绘图\n",
    "ax.bar(x1, base1_u,onset,color='r', label='GR-GC')\n",
    "ax.bar(x2, base2_u, onset,color='g', label='DS-GC')\n",
    "ax.bar(x3, base3_u, onset, color='b',label='TP-GC')\n",
    "ax.bar(x4, gc_u, onset, color='pink',label='LA-GC')\n",
    "# Add some text for labels, title and custom x-axis tick labels, etc.\n",
    "ax.set_ylabel('读请求平均延迟（单位：毫秒）')\n",
    "ax.set_xticks(range(0,8*num,8))\n",
    "ax.set_xticklabels(labels,fontsize=10)\n",
    "ax.set_ylim(0,1.5)\n",
    "# Add some text for labels, title and custom x-axis tick labels, etc.\n",
    "ax.legend(fontsize=6)\n",
    "plt.savefig(\"read_avg.png\", bbox_inches = 'tight',dpi=1000)"
   ]
  },
  {
   "cell_type": "code",
   "execution_count": 4,
   "metadata": {},
   "outputs": [
    {
     "data": {
      "text/plain": [
       "0.10977772174762035"
      ]
     },
     "execution_count": 4,
     "metadata": {},
     "output_type": "execute_result"
    }
   ],
   "source": [
    "1 - sum(gc_u) / len(gc_u)"
   ]
  },
  {
   "cell_type": "code",
   "execution_count": 12,
   "metadata": {},
   "outputs": [
    {
     "data": {
      "text/plain": [
       "(13,)"
      ]
     },
     "execution_count": 12,
     "metadata": {},
     "output_type": "execute_result"
    }
   ],
   "source": [
    "shape(base1)\n"
   ]
  },
  {
   "cell_type": "code",
   "execution_count": 14,
   "metadata": {},
   "outputs": [
    {
     "data": {
      "text/plain": [
       "13"
      ]
     },
     "execution_count": 14,
     "metadata": {},
     "output_type": "execute_result"
    }
   ],
   "source": [
    "len(base1)"
   ]
  },
  {
   "cell_type": "code",
   "execution_count": 15,
   "metadata": {},
   "outputs": [
    {
     "data": {
      "text/plain": [
       "[1.411283,\n",
       " 10.627171,\n",
       " 2.882548,\n",
       " 2.434125,\n",
       " 2.183558,\n",
       " 5.630843,\n",
       " 13.302142,\n",
       " 0.572071,\n",
       " 1.032713,\n",
       " 7.999644,\n",
       " 1.261306,\n",
       " 5.617203,\n",
       " 1.000842]"
      ]
     },
     "execution_count": 15,
     "metadata": {},
     "output_type": "execute_result"
    }
   ],
   "source": [
    "base1"
   ]
  },
  {
   "cell_type": "code",
   "execution_count": null,
   "metadata": {},
   "outputs": [],
   "source": []
  }
 ],
 "metadata": {
  "kernelspec": {
   "display_name": "Python 3 (ipykernel)",
   "language": "python",
   "name": "python3"
  },
  "language_info": {
   "codemirror_mode": {
    "name": "ipython",
    "version": 3
   },
   "file_extension": ".py",
   "mimetype": "text/x-python",
   "name": "python",
   "nbconvert_exporter": "python",
   "pygments_lexer": "ipython3",
   "version": "3.8.10"
  },
  "orig_nbformat": 4
 },
 "nbformat": 4,
 "nbformat_minor": 2
}
